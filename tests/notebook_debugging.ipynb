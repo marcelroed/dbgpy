{
 "cells": [
  {
   "cell_type": "code",
   "execution_count": 26,
   "id": "13117da3-eb4e-45bd-b27a-613a07a343fd",
   "metadata": {},
   "outputs": [
    {
     "name": "stdout",
     "output_type": "stream",
     "text": [
      "The autoreload extension is already loaded. To reload it, use:\n",
      "  %reload_ext autoreload\n"
     ]
    }
   ],
   "source": [
    "%load_ext autoreload\n",
    "%autoreload 2"
   ]
  },
  {
   "cell_type": "code",
   "execution_count": 27,
   "id": "e3c009a3-e3db-481b-aaba-011b8993de7f",
   "metadata": {},
   "outputs": [
    {
     "name": "stdout",
     "output_type": "stream",
     "text": [
      "/Users/marcel/git/dbgpy\n"
     ]
    },
    {
     "data": {
      "text/plain": [
       "'/Users/marcel/git'"
      ]
     },
     "execution_count": 27,
     "metadata": {},
     "output_type": "execute_result"
    }
   ],
   "source": [
    "import os\n",
    "print(os.getcwd())\n",
    "os.chdir('../')\n",
    "os.getcwd()"
   ]
  },
  {
   "cell_type": "code",
   "execution_count": 28,
   "id": "004baf00-08cf-4b0b-9226-72e9e32d6330",
   "metadata": {},
   "outputs": [],
   "source": [
    "from dbgpy import dbg"
   ]
  },
  {
   "cell_type": "code",
   "execution_count": 29,
   "id": "cde5aafe-f5df-475b-bd39-a8d8f953c0bf",
   "metadata": {
    "tags": []
   },
   "outputs": [
    {
     "name": "stdout",
     "output_type": "stream",
     "text": [
      "35\n"
     ]
    },
    {
     "name": "stderr",
     "output_type": "stream",
     "text": [
      "/Users/marcel/git/dbgpy/dbgpy/_stack_inspect.py:95: UserWarning: dbg currently doesn't support IPython cells, dbg will default to printing normally\n",
      "  warn('dbg currently doesn\\'t support IPython cells, dbg will default to printing normally')\n"
     ]
    },
    {
     "data": {
      "text/plain": [
       "35"
      ]
     },
     "execution_count": 29,
     "metadata": {},
     "output_type": "execute_result"
    }
   ],
   "source": [
    "x = 10\n",
    "y = 25\n",
    "dbg(\n",
    "    x + y\n",
    ")"
   ]
  },
  {
   "cell_type": "code",
   "execution_count": null,
   "id": "321657a0-fede-432d-8539-95c6cab9d622",
   "metadata": {},
   "outputs": [],
   "source": []
  }
 ],
 "metadata": {
  "kernelspec": {
   "display_name": "Python 3 (ipykernel)",
   "language": "python",
   "name": "python3"
  },
  "language_info": {
   "codemirror_mode": {
    "name": "ipython",
    "version": 3
   },
   "file_extension": ".py",
   "mimetype": "text/x-python",
   "name": "python",
   "nbconvert_exporter": "python",
   "pygments_lexer": "ipython3",
   "version": "3.9.10"
  }
 },
 "nbformat": 4,
 "nbformat_minor": 5
}
